{
 "cells": [
  {
   "cell_type": "code",
   "execution_count": 66,
   "id": "53c5a2ea",
   "metadata": {},
   "outputs": [],
   "source": [
    "#UPDATE this cell with your data source + Dictionary/Codebook\n",
    "#data source: https://ourworldindata.org/mental-health"
   ]
  },
  {
   "cell_type": "code",
   "execution_count": 67,
   "id": "1ffcd677",
   "metadata": {},
   "outputs": [],
   "source": [
    "#import libraries\n",
    "import pandas as pd\n",
    "import math\n",
    "import matplotlib as plt\n",
    "import numpy as np"
   ]
  },
  {
   "cell_type": "code",
   "execution_count": 68,
   "id": "c4c3f697",
   "metadata": {},
   "outputs": [],
   "source": [
    "#name file path and choose appropriate cell to execute\n",
    "file = 'mental_by_country.csv'"
   ]
  },
  {
   "cell_type": "code",
   "execution_count": null,
   "id": "0b405e9b",
   "metadata": {},
   "outputs": [],
   "source": []
  },
  {
   "cell_type": "code",
   "execution_count": 69,
   "id": "6381da44",
   "metadata": {},
   "outputs": [
    {
     "name": "stdout",
     "output_type": "stream",
     "text": [
      "<bound method NDFrame.head of            Entity Code  Year  \\\n",
      "0     Afghanistan  AFG  1990   \n",
      "1     Afghanistan  AFG  1991   \n",
      "2     Afghanistan  AFG  1992   \n",
      "3     Afghanistan  AFG  1993   \n",
      "4     Afghanistan  AFG  1994   \n",
      "...           ...  ...   ...   \n",
      "6775     Zimbabwe  ZWE  2015   \n",
      "6776     Zimbabwe  ZWE  2016   \n",
      "6777     Zimbabwe  ZWE  2017   \n",
      "6778     Zimbabwe  ZWE  2018   \n",
      "6779     Zimbabwe  ZWE  2019   \n",
      "\n",
      "      Prevalence - Mental disorders - Sex: Both - Age: Age-standardized (Percent)  \n",
      "0                                             16.659229                            \n",
      "1                                             16.765052                            \n",
      "2                                             16.874469                            \n",
      "3                                             16.990720                            \n",
      "4                                             17.112730                            \n",
      "...                                                 ...                            \n",
      "6775                                          11.156429                            \n",
      "6776                                          11.164133                            \n",
      "6777                                          11.170427                            \n",
      "6778                                          11.158765                            \n",
      "6779                                          11.119021                            \n",
      "\n",
      "[6780 rows x 4 columns]>\n"
     ]
    }
   ],
   "source": [
    "#read data from CSV and print head\n",
    "df = pd.read_csv('mental_by_country.csv')\n",
    "print(df.head)"
   ]
  },
  {
   "cell_type": "code",
   "execution_count": 70,
   "id": "16e12e17",
   "metadata": {},
   "outputs": [
    {
     "name": "stdout",
     "output_type": "stream",
     "text": [
      "                   Entity Code  Year  \\\n",
      "29            Afghanistan  AFG  2019   \n",
      "59   African Region (WHO)  NaN  2019   \n",
      "89                Albania  ALB  2019   \n",
      "119               Algeria  DZA  2019   \n",
      "149        American Samoa  ASM  2019   \n",
      "\n",
      "     Prevalence - Mental disorders - Sex: Both - Age: Age-standardized (Percent)  \n",
      "29                                           17.117612                            \n",
      "59                                           12.211424                            \n",
      "89                                           11.558431                            \n",
      "119                                          14.782931                            \n",
      "149                                          11.241028                            \n"
     ]
    }
   ],
   "source": [
    "#limit dataset to the year 2019\n",
    "df = df[df['Year'] == 2019]\n",
    "print(df.head())"
   ]
  },
  {
   "cell_type": "code",
   "execution_count": 71,
   "id": "fb5d4494",
   "metadata": {},
   "outputs": [
    {
     "data": {
      "text/html": [
       "<div>\n",
       "<style scoped>\n",
       "    .dataframe tbody tr th:only-of-type {\n",
       "        vertical-align: middle;\n",
       "    }\n",
       "\n",
       "    .dataframe tbody tr th {\n",
       "        vertical-align: top;\n",
       "    }\n",
       "\n",
       "    .dataframe thead th {\n",
       "        text-align: right;\n",
       "    }\n",
       "</style>\n",
       "<table border=\"1\" class=\"dataframe\">\n",
       "  <thead>\n",
       "    <tr style=\"text-align: right;\">\n",
       "      <th></th>\n",
       "      <th>Entity</th>\n",
       "      <th>Prevalence - Mental disorders - Sex: Both - Age: Age-standardized (Percent)</th>\n",
       "      <th>Year</th>\n",
       "    </tr>\n",
       "  </thead>\n",
       "  <tbody>\n",
       "    <tr>\n",
       "      <th>0</th>\n",
       "      <td>Afghanistan</td>\n",
       "      <td>17.117612</td>\n",
       "      <td>1.0</td>\n",
       "    </tr>\n",
       "    <tr>\n",
       "      <th>1</th>\n",
       "      <td>African Region (WHO)</td>\n",
       "      <td>12.211424</td>\n",
       "      <td>1.0</td>\n",
       "    </tr>\n",
       "    <tr>\n",
       "      <th>2</th>\n",
       "      <td>Albania</td>\n",
       "      <td>11.558431</td>\n",
       "      <td>1.0</td>\n",
       "    </tr>\n",
       "    <tr>\n",
       "      <th>3</th>\n",
       "      <td>Algeria</td>\n",
       "      <td>14.782931</td>\n",
       "      <td>1.0</td>\n",
       "    </tr>\n",
       "    <tr>\n",
       "      <th>4</th>\n",
       "      <td>American Samoa</td>\n",
       "      <td>11.241028</td>\n",
       "      <td>1.0</td>\n",
       "    </tr>\n",
       "    <tr>\n",
       "      <th>...</th>\n",
       "      <td>...</td>\n",
       "      <td>...</td>\n",
       "      <td>...</td>\n",
       "    </tr>\n",
       "    <tr>\n",
       "      <th>221</th>\n",
       "      <td>World Bank Lower Middle Income</td>\n",
       "      <td>12.765504</td>\n",
       "      <td>1.0</td>\n",
       "    </tr>\n",
       "    <tr>\n",
       "      <th>222</th>\n",
       "      <td>World Bank Upper Middle Income</td>\n",
       "      <td>12.500398</td>\n",
       "      <td>1.0</td>\n",
       "    </tr>\n",
       "    <tr>\n",
       "      <th>223</th>\n",
       "      <td>Yemen</td>\n",
       "      <td>16.401522</td>\n",
       "      <td>1.0</td>\n",
       "    </tr>\n",
       "    <tr>\n",
       "      <th>224</th>\n",
       "      <td>Zambia</td>\n",
       "      <td>12.112616</td>\n",
       "      <td>1.0</td>\n",
       "    </tr>\n",
       "    <tr>\n",
       "      <th>225</th>\n",
       "      <td>Zimbabwe</td>\n",
       "      <td>11.119021</td>\n",
       "      <td>1.0</td>\n",
       "    </tr>\n",
       "  </tbody>\n",
       "</table>\n",
       "<p>226 rows × 3 columns</p>\n",
       "</div>"
      ],
      "text/plain": [
       "                             Entity  \\\n",
       "0                       Afghanistan   \n",
       "1              African Region (WHO)   \n",
       "2                           Albania   \n",
       "3                           Algeria   \n",
       "4                    American Samoa   \n",
       "..                              ...   \n",
       "221  World Bank Lower Middle Income   \n",
       "222  World Bank Upper Middle Income   \n",
       "223                           Yemen   \n",
       "224                          Zambia   \n",
       "225                        Zimbabwe   \n",
       "\n",
       "     Prevalence - Mental disorders - Sex: Both - Age: Age-standardized (Percent)  \\\n",
       "0                                            17.117612                             \n",
       "1                                            12.211424                             \n",
       "2                                            11.558431                             \n",
       "3                                            14.782931                             \n",
       "4                                            11.241028                             \n",
       "..                                                 ...                             \n",
       "221                                          12.765504                             \n",
       "222                                          12.500398                             \n",
       "223                                          16.401522                             \n",
       "224                                          12.112616                             \n",
       "225                                          11.119021                             \n",
       "\n",
       "     Year  \n",
       "0     1.0  \n",
       "1     1.0  \n",
       "2     1.0  \n",
       "3     1.0  \n",
       "4     1.0  \n",
       "..    ...  \n",
       "221   1.0  \n",
       "222   1.0  \n",
       "223   1.0  \n",
       "224   1.0  \n",
       "225   1.0  \n",
       "\n",
       "[226 rows x 3 columns]"
      ]
     },
     "execution_count": 71,
     "metadata": {},
     "output_type": "execute_result"
    }
   ],
   "source": [
    "table = df.groupby('Entity')[['Prevalence - Mental disorders - Sex: Both - Age: Age-standardized (Percent)']].value_counts(normalize = True).to_frame(\n",
    "    name = 'Year').reset_index()\n",
    "table"
   ]
  },
  {
   "cell_type": "code",
   "execution_count": 72,
   "id": "d9d21b5c",
   "metadata": {},
   "outputs": [],
   "source": [
    "table.to_csv('mental_country_percent.csv') #export to CSV"
   ]
  },
  {
   "cell_type": "code",
   "execution_count": 65,
   "id": "b8ffdc59",
   "metadata": {},
   "outputs": [
    {
     "data": {
      "text/html": [
       "<div>\n",
       "<style scoped>\n",
       "    .dataframe tbody tr th:only-of-type {\n",
       "        vertical-align: middle;\n",
       "    }\n",
       "\n",
       "    .dataframe tbody tr th {\n",
       "        vertical-align: top;\n",
       "    }\n",
       "\n",
       "    .dataframe thead th {\n",
       "        text-align: right;\n",
       "    }\n",
       "</style>\n",
       "<table border=\"1\" class=\"dataframe\">\n",
       "  <thead>\n",
       "    <tr style=\"text-align: right;\">\n",
       "      <th>Year</th>\n",
       "      <th>1.0</th>\n",
       "    </tr>\n",
       "    <tr>\n",
       "      <th>Entity</th>\n",
       "      <th></th>\n",
       "    </tr>\n",
       "  </thead>\n",
       "  <tbody>\n",
       "    <tr>\n",
       "      <th>Afghanistan</th>\n",
       "      <td>17.117612</td>\n",
       "    </tr>\n",
       "    <tr>\n",
       "      <th>African Region (WHO)</th>\n",
       "      <td>12.211424</td>\n",
       "    </tr>\n",
       "    <tr>\n",
       "      <th>Albania</th>\n",
       "      <td>11.558431</td>\n",
       "    </tr>\n",
       "    <tr>\n",
       "      <th>Algeria</th>\n",
       "      <td>14.782931</td>\n",
       "    </tr>\n",
       "    <tr>\n",
       "      <th>American Samoa</th>\n",
       "      <td>11.241028</td>\n",
       "    </tr>\n",
       "    <tr>\n",
       "      <th>...</th>\n",
       "      <td>...</td>\n",
       "    </tr>\n",
       "    <tr>\n",
       "      <th>World Bank Lower Middle Income</th>\n",
       "      <td>12.765504</td>\n",
       "    </tr>\n",
       "    <tr>\n",
       "      <th>World Bank Upper Middle Income</th>\n",
       "      <td>12.500398</td>\n",
       "    </tr>\n",
       "    <tr>\n",
       "      <th>Yemen</th>\n",
       "      <td>16.401522</td>\n",
       "    </tr>\n",
       "    <tr>\n",
       "      <th>Zambia</th>\n",
       "      <td>12.112616</td>\n",
       "    </tr>\n",
       "    <tr>\n",
       "      <th>Zimbabwe</th>\n",
       "      <td>11.119021</td>\n",
       "    </tr>\n",
       "  </tbody>\n",
       "</table>\n",
       "<p>226 rows × 1 columns</p>\n",
       "</div>"
      ],
      "text/plain": [
       "Year                                  1.0\n",
       "Entity                                   \n",
       "Afghanistan                     17.117612\n",
       "African Region (WHO)            12.211424\n",
       "Albania                         11.558431\n",
       "Algeria                         14.782931\n",
       "American Samoa                  11.241028\n",
       "...                                   ...\n",
       "World Bank Lower Middle Income  12.765504\n",
       "World Bank Upper Middle Income  12.500398\n",
       "Yemen                           16.401522\n",
       "Zambia                          12.112616\n",
       "Zimbabwe                        11.119021\n",
       "\n",
       "[226 rows x 1 columns]"
      ]
     },
     "execution_count": 65,
     "metadata": {},
     "output_type": "execute_result"
    }
   ],
   "source": [
    "#create pivot table to use in google sheets\n",
    "pvt_table = table.pivot(index = 'Entity', columns = 'Year', values = 'Prevalence - Mental disorders - Sex: Both - Age: Age-standardized (Percent)')\n",
    "pvt_table"
   ]
  },
  {
   "cell_type": "code",
   "execution_count": 40,
   "id": "13085242",
   "metadata": {},
   "outputs": [
    {
     "name": "stdout",
     "output_type": "stream",
     "text": [
      "['Entity', 'Code', 'Year', 'Prevalence - Mental disorders - Sex: Both - Age: Age-standardized (Percent)']\n",
      "226\n",
      "4\n"
     ]
    }
   ],
   "source": [
    "#print list of column names\n",
    "print(list(df))\n",
    "print(len(df))\n",
    "print(len(list(df)))"
   ]
  },
  {
   "cell_type": "code",
   "execution_count": 41,
   "id": "40335fe4",
   "metadata": {},
   "outputs": [],
   "source": [
    "#output frequency table of chosen column in dataset\n",
    "col1 = 'Entity' #<-edit this value! column name as it appears in dataframe\n",
    "col1_name = 'Country' #<-edit this value! descriptive name for column\n",
    "col2 = 'Prevalence - Mental disorders - Sex: Both - Age: Age-standardized (Percent)'\n",
    "col2_name = \"Mental Health Percentages\""
   ]
  },
  {
   "cell_type": "code",
   "execution_count": 52,
   "id": "246257bb",
   "metadata": {},
   "outputs": [
    {
     "name": "stdout",
     "output_type": "stream",
     "text": [
      "Entity\n"
     ]
    },
    {
     "data": {
      "text/plain": [
       "6"
      ]
     },
     "execution_count": 52,
     "metadata": {},
     "output_type": "execute_result"
    }
   ],
   "source": []
  },
  {
   "cell_type": "code",
   "execution_count": null,
   "id": "8cb871d2",
   "metadata": {},
   "outputs": [],
   "source": []
  }
 ],
 "metadata": {
  "kernelspec": {
   "display_name": "Python 3 (ipykernel)",
   "language": "python",
   "name": "python3"
  },
  "language_info": {
   "codemirror_mode": {
    "name": "ipython",
    "version": 3
   },
   "file_extension": ".py",
   "mimetype": "text/x-python",
   "name": "python",
   "nbconvert_exporter": "python",
   "pygments_lexer": "ipython3",
   "version": "3.9.12"
  }
 },
 "nbformat": 4,
 "nbformat_minor": 5
}
